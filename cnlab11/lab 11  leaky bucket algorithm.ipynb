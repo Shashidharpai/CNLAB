{
 "cells": [
  {
   "cell_type": "code",
   "execution_count": 4,
   "metadata": {},
   "outputs": [
    {
     "name": "stdout",
     "output_type": "stream",
     "text": [
      "Enter output rate : 50\n",
      "Packet no : 0 packet size : 380\n",
      "50 Bytes outputed \n",
      "50 Bytes outputed \n",
      "50 Bytes outputed \n",
      "50 Bytes outputed \n",
      "50 Bytes outputed \n",
      "50 Bytes outputed \n",
      "50 Bytes outputed \n",
      "Last 30 byte sent\n",
      "Bucket output success\n",
      "Packet no : 1 packet size : 533\n",
      "Bucket overflow\n",
      "Packet no : 2 packet size : 545\n",
      "Bucket overflow\n",
      "Packet no : 3 packet size : 232\n",
      "50 Bytes outputed \n",
      "50 Bytes outputed \n",
      "50 Bytes outputed \n",
      "50 Bytes outputed \n",
      "Last 32 byte sent\n",
      "Bucket output success\n",
      "Packet no : 4 packet size : 896\n",
      "Bucket overflow\n"
     ]
    }
   ],
   "source": [
    "import time\n",
    "import random\n",
    "\n",
    "\n",
    "def bktInput(a, b, bucket_size = 512):\n",
    "    if(a > bucket_size):\n",
    "        print(\"Bucket overflow\")\n",
    "    else:\n",
    "        time.sleep(5)\n",
    "        while(a > b):\n",
    "            print(f'{b} Bytes outputed ')\n",
    "            a -= b\n",
    "            time.sleep(5)\n",
    "        if(a > 0):\n",
    "            print(f'Last {a} byte sent')\n",
    "        print('Bucket output success')\n",
    "    \n",
    "output_rate = int(input('Enter output rate : '))\n",
    "for i in range(5):\n",
    "    time.sleep(5)\n",
    "    pktsize = random.randint(1,1000)\n",
    "    print(f'Packet no : {i} packet size : {pktsize}')\n",
    "    bktInput(pktsize,output_rate)"
   ]
  },
  {
   "cell_type": "code",
   "execution_count": null,
   "metadata": {},
   "outputs": [],
   "source": []
  }
 ],
 "metadata": {
  "kernelspec": {
   "display_name": "Python 3",
   "language": "python",
   "name": "python3"
  },
  "language_info": {
   "codemirror_mode": {
    "name": "ipython",
    "version": 3
   },
   "file_extension": ".py",
   "mimetype": "text/x-python",
   "name": "python",
   "nbconvert_exporter": "python",
   "pygments_lexer": "ipython3",
   "version": "3.8.3"
  }
 },
 "nbformat": 4,
 "nbformat_minor": 4
}
